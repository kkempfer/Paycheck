{
 "cells": [
  {
   "cell_type": "markdown",
   "metadata": {},
   "source": [
    "# Weekly paycheck"
   ]
  },
  {
   "cell_type": "markdown",
   "metadata": {},
   "source": [
    "Let's first import some tools."
   ]
  },
  {
   "cell_type": "code",
   "execution_count": null,
   "metadata": {},
   "outputs": [],
   "source": [
    "#import numpy as np\n",
    "import pandas as pd\n",
    "import qgrid\n",
    "import ipywidgets as widgets\n",
    "#import matplotlib.pyplot as plt"
   ]
  },
  {
   "cell_type": "markdown",
   "metadata": {},
   "source": [
    "What are your working conditions this week ?"
   ]
  },
  {
   "cell_type": "code",
   "execution_count": null,
   "metadata": {},
   "outputs": [],
   "source": [
    "daily_limit = 8.0  # Daily time limit above it is considered to be overtime\n",
    "weekly_limit = 40.0  # Weekly hours above which all extra time is considered as overtime\n",
    "week_rate = 14.50  # Gross salary per hour during the week (Monday to Friday)\n",
    "weekend_rate = 14.75  # Gross salary per hour during weekend (Saturday and Sunday)\n",
    "overtime_rate = 22.12  # Gross salary per overtime hour (both week and weekend)\n",
    "bonus = 0.0  # Bonus salary (tip, etc.)"
   ]
  },
  {
   "cell_type": "markdown",
   "metadata": {},
   "source": [
    "Initialize the week by running the code box below. Then, update the table to match your own working schedule. Just fill the cell manually using \"hh:mm\" formatting, that corresponds to hours and minutes. You can select the days you worked by ticking their corresponding boxes in the filtering control menu in the first column of the table."
   ]
  },
  {
   "cell_type": "code",
   "execution_count": null,
   "metadata": {
    "scrolled": true
   },
   "outputs": [],
   "source": [
    "days = [\"Saturday\", \"Sunday\", \"Monday\", \"Tuesday\", \"Wednesday\", \"Thursday\", \"Friday\"]\n",
    "tasks = [\"Start\", \"End\", \"Break\"]\n",
    "df = pd.DataFrame(index=days, columns=tasks)\n",
    "df[\"Start\"] = [\"08:00\" for day in days]\n",
    "df[\"End\"] = [\"16:30\" for day in days]\n",
    "df[\"Break\"] = [\"00:30\" for day in days]\n",
    "\n",
    "qgrid_widget = qgrid.show_grid(df)\n",
    "qgrid_widget"
   ]
  },
  {
   "cell_type": "markdown",
   "metadata": {},
   "source": [
    "Next, we compute the daily working time of which part may be considered as overtime. Unpaid break times are taken into account by removing their amount from the working time."
   ]
  },
  {
   "cell_type": "code",
   "execution_count": null,
   "metadata": {
    "scrolled": true
   },
   "outputs": [],
   "source": [
    "df = qgrid_widget.get_changed_df()\n",
    "df = df.reindex(index=days, fill_value=pd.NaT)\n",
    "\n",
    "def str2time(s):\n",
    "    if pd.isnull(s):\n",
    "        return pd.NaT\n",
    "    v = [int(_) for _ in s.split(\":\")]\n",
    "    return pd.to_timedelta(v[0], unit=\"h\") + pd.to_timedelta(v[1], unit=\"m\")\n",
    "\n",
    "dt = df.applymap(str2time)\n",
    "dt[\"Working time\"] = (dt[\"End\"] - dt[\"Start\"] - dt[\"Break\"]).fillna(pd.to_timedelta(0))\n",
    "dt[\"Overtime\"] = (dt[\"Working time\"] - pd.to_timedelta(daily_limit, unit=\"h\")).fillna(pd.to_timedelta(0))\n",
    "dt[\"Overtime\"][dt[\"Overtime\"] < pd.to_timedelta(0)] = pd.to_timedelta(0)\n",
    "\n",
    "def time2str(t):\n",
    "    if pd.isnull(t):\n",
    "        return pd.NaT\n",
    "    h = t.components.hours\n",
    "    m = t.components.minutes\n",
    "    return \"{:02d}:{:02d}\".format(h, m)\n",
    "\n",
    "df[\"Working time\"] = dt[\"Working time\"].apply(time2str)\n",
    "df[\"Overtime\"] = dt[\"Overtime\"].apply(time2str)\n",
    "df"
   ]
  },
  {
   "cell_type": "markdown",
   "metadata": {},
   "source": [
    "Moving forward, we compute your total weekly working hours, that we split into regular week time, regular weekend time, and overtime. Overtime can have two origins: either extra working hours above the daily limit, or extra working hours above the weekly limit."
   ]
  },
  {
   "cell_type": "code",
   "execution_count": null,
   "metadata": {},
   "outputs": [],
   "source": [
    "def time2hour(t):\n",
    "    if pd.isnull(t):\n",
    "        return pd.NaT\n",
    "    return t.components.days * 24 + t.components.hours + t.components.minutes / 60.0\n",
    "\n",
    "def compute_overtime(week_time, weekend_time, daily_overtime):\n",
    "    global weekly_limit\n",
    "    working_time = week_time + weekend_time\n",
    "    if working_time > weekly_limit:\n",
    "        overtime = working_time - weekly_limit\n",
    "    else:\n",
    "        overtime = daily_overtime\n",
    "    return overtime\n",
    "\n",
    "def compute_regular_time(week_time, weekend_time, overtime):\n",
    "    if week_time >= overtime:\n",
    "        regular_week_time = week_time - overtime\n",
    "        regular_weekend_time = weekend_time\n",
    "    else:\n",
    "        regular_week_time = 0.0\n",
    "        regular_weekend_time = weekend_time - (overtime - week_time)\n",
    "    return regular_week_time, regular_weekend_time\n",
    "\n",
    "week = [\"Monday\", \"Tuesday\", \"Wednesday\", \"Thursday\", \"Friday\"]\n",
    "week_time = dt.loc[week][\"Working time\"].apply(time2hour).sum()\n",
    "weekend = [\"Saturday\", \"Sunday\"]\n",
    "weekend_time = dt.loc[weekend][\"Working time\"].apply(time2hour).sum()\n",
    "\n",
    "daily_overtime = dt[\"Overtime\"].apply(time2hour).sum()\n",
    "overtime = compute_overtime(week_time, weekend_time, daily_overtime)\n",
    "regular_week_time, regular_weekend_time = compute_regular_time(\n",
    "    week_time, weekend_time, overtime)\n",
    "\n",
    "working_time = dt[\"Working time\"].apply(time2hour).sum()\n",
    "\n",
    "print(\"Week time: {:.2f} hours\".format(week_time))\n",
    "print(\"Weekend time: {:.2f} hours\".format(weekend_time))\n",
    "print(\"-------------------------------\")\n",
    "print(\"Regular week time: {:.2f} hours\".format(regular_week_time))\n",
    "print(\"Regular weekend time: {:.2f} hours\".format(regular_weekend_time))\n",
    "print(\"Overtime: {:.2f} hours\".format(overtime))\n",
    "print(\"-------------------------------\")\n",
    "print(\"Total working time: {:.2f} hours\".format(working_time))"
   ]
  },
  {
   "cell_type": "markdown",
   "metadata": {},
   "source": [
    "Finally, we compute your gross income."
   ]
  },
  {
   "cell_type": "code",
   "execution_count": null,
   "metadata": {},
   "outputs": [],
   "source": [
    "week_salary = regular_week_time * week_rate\n",
    "weekend_salary = regular_weekend_time * weekend_rate\n",
    "overtime_salary = overtime * overtime_rate\n",
    "\n",
    "salary = week_salary + weekend_salary + overtime_salary + bonus\n",
    "\n",
    "print(\"Regular week gross pay: ${:.2f}\".format(week_salary))\n",
    "print(\"Regular weekend gross pay: ${:.2f}\".format(weekend_salary))\n",
    "print(\"Overtime gross pay: ${:.2f}\".format(overtime_salary))\n",
    "print(\"Bonus gross pay: ${:.2f}\".format(bonus))\n",
    "print(\"-------------------------------\")\n",
    "print(\"Total gross salary: ${:.2f}\".format(salary))"
   ]
  },
  {
   "cell_type": "markdown",
   "metadata": {},
   "source": [
    "As a example to illustrate `ipywidgets` package, we compute your salary dynamically as a function of your working hours, your pay rates and your bonus salary."
   ]
  },
  {
   "cell_type": "code",
   "execution_count": null,
   "metadata": {},
   "outputs": [],
   "source": [
    "wt = widgets.FloatSlider(value=week_time, min=0.0, max=80.0)\n",
    "et = widgets.FloatSlider(value=weekend_time, min=0.0, max=32.0)\n",
    "dot = widgets.FloatSlider(value=daily_overtime, min=0.0, max=10.0)\n",
    "wr = widgets.FloatSlider(value=week_rate, min=0.0, max=30.0)\n",
    "er = widgets.FloatSlider(value=weekend_rate, min=0.0, max=30.0)\n",
    "_or = widgets.FloatSlider(value=overtime_rate, min=0.0, max=30.0)\n",
    "b = widgets.FloatSlider(value=bonus, min=0.0, max=200.0)\n",
    "\n",
    "def printer(wt, et, dot, wr, er, _or, b):\n",
    "    ot = compute_overtime(wt, et, dot)\n",
    "    rwt, ret = compute_regular_time(wt, et, ot)\n",
    "    ws = rwt * wr\n",
    "    es = ret * er\n",
    "    os = ot * _or\n",
    "    s = ws + es + os + b\n",
    "    print(\"Regular week time: {:.2f} hours\".format(rwt))\n",
    "    print(\"Regular weekend time: {:.2f} hours\".format(ret))\n",
    "    print(\"Overtime: {:.2f} hours\".format(ot))\n",
    "    print(\"-------------------------------\")\n",
    "    print(\"Total working time: {:.2f} hours\".format(wt + et))\n",
    "    print(\"-------------------------------\")\n",
    "    print(\"Regular week gross salary: ${:.2f}\".format(ws))\n",
    "    print(\"Regular weekend gross salary: ${:.2f}\".format(es))\n",
    "    print(\"Overtime gross salary: ${:.2f}\".format(os))\n",
    "    print(\"Bonus gross pay: ${:.2f}\".format(b))\n",
    "    print(\"-------------------------------\")\n",
    "    print(\"Total gross salary: ${:.2f}\".format(s))\n",
    "\n",
    "io = widgets.interactive_output(printer, {\n",
    "    \"wt\": wt,\n",
    "    \"et\": et,\n",
    "    \"dot\": dot,\n",
    "    \"wr\": wr,\n",
    "    \"er\": er,\n",
    "    \"_or\": _or,\n",
    "    \"b\": b\n",
    "})\n",
    "\n",
    "widgets.HBox([\n",
    "    widgets.VBox([\n",
    "        widgets.Label(\"Week time\"),\n",
    "        widgets.Label(\"Weekend time\"),\n",
    "        widgets.Label(\"Daily overtime\"),\n",
    "        widgets.Label(\"Week rate\"),\n",
    "        widgets.Label(\"Weekend rate\"),\n",
    "        widgets.Label(\"Overtime rate\"),\n",
    "        widgets.Label(\"Bonus\")\n",
    "    ]),\n",
    "    widgets.VBox([wt, et, dot, wr, er, _or, b]), io\n",
    "])"
   ]
  },
  {
   "cell_type": "markdown",
   "metadata": {},
   "source": [
    "In development..."
   ]
  },
  {
   "cell_type": "code",
   "execution_count": null,
   "metadata": {},
   "outputs": [],
   "source": [
    "def compute_salary(week_time, weekend_time, daily_overtime):\n",
    "    global overtime_rate\n",
    "    global week_rate\n",
    "    global weekend_rate\n",
    "\n",
    "    overtime = compute_overtime(week_time, weekend_time, daily_overtime)\n",
    "    regular_week_time, regular_weekend_time = compute_regular_time(\n",
    "        week_time, weekend_time, overtime)\n",
    "\n",
    "    overtime_salary = overtime * overtime_rate\n",
    "    week_salary = regular_week_time * week_rate\n",
    "    weekend_salary = regular_weekend_time * weekend_rate\n",
    "\n",
    "    return overtime_salary + week_salary + weekend_salary\n",
    "\n",
    "# print(daily_overtime, overtime, salary)\n",
    "# plt.figure()\n",
    "# plt.plot(daily_overtime, salary)\n",
    "# plt.show()\n",
    "\n",
    "#plotter(40, 6, 0)"
   ]
  },
  {
   "cell_type": "code",
   "execution_count": null,
   "metadata": {
    "scrolled": true
   },
   "outputs": [],
   "source": [
    "def f(m, b):\n",
    "    plt.figure()\n",
    "    x = np.linspace(-10, 10, num=1000)\n",
    "    plt.plot(x, m * x + b)\n",
    "    plt.ylim(-5, 5)\n",
    "    plt.show()\n",
    "\n",
    "#interactive_plot = widgets.interactive(f, m=(-2.0, 2.0), b=(-3, 3, 0.5))\n",
    "#output = interactive_plot.children[-1]\n",
    "#interactive_plot"
   ]
  }
 ],
 "metadata": {
  "kernelspec": {
   "display_name": "Python 3",
   "language": "python",
   "name": "python3"
  },
  "language_info": {
   "codemirror_mode": {
    "name": "ipython",
    "version": 3
   },
   "file_extension": ".py",
   "mimetype": "text/x-python",
   "name": "python",
   "nbconvert_exporter": "python",
   "pygments_lexer": "ipython3",
   "version": "3.7.9"
  }
 },
 "nbformat": 4,
 "nbformat_minor": 4
}
